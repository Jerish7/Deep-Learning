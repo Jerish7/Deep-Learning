{
 "cells": [
  {
   "cell_type": "code",
   "execution_count": 1,
   "id": "e02d5112",
   "metadata": {},
   "outputs": [],
   "source": [
    "from tensorflow.keras.preprocessing.image import ImageDataGenerator, array_to_img, img_to_array, load_img\n",
    "datagen= ImageDataGenerator(\n",
    "        rotation_range=40,\n",
    "        width_shift_range=0.2,\n",
    "        height_shift_range=0.2,\n",
    "        shear_range=0.2,\n",
    "        zoom_range=0.2,\n",
    "        horizontal_flip=True,\n",
    "        fill_mode='nearest')\n",
    "\n",
    "# rotation_range - degree range from 0-180 which randomly rotatest pictures\n",
    "# width_shift_range is randomly translating pictures vertically\n",
    "# height_shift_range is randomly translating pictures horizontally\n",
    "# shear_range for randomly applying shear transformations\n",
    "# zoom_range for randomly zooming inside pictures\n",
    "# horizontal_flip for randomly flipping half of the image horizontally\n",
    "# fill_mode is the strategy used for filling in newly created pixels"
   ]
  },
  {
   "cell_type": "code",
   "execution_count": 3,
   "id": "0d3bdc41",
   "metadata": {},
   "outputs": [],
   "source": [
    "#Loading the image\n",
    "img= load_img('C:/Users/Jerish/OneDrive/Desktop/Dogs vs cats/pics/cat.jpg')  #This is a PIL image\n",
    "\n",
    "#Converting img to array\n",
    "x= img_to_array(img)  #Numpy array with shape (3, 150, 150)\n",
    "\n",
    "#Reshaping the array dim\n",
    "x= x.reshape((1, )+ x.shape)  #Shape is (1, 3, 150, 150)"
   ]
  },
  {
   "cell_type": "code",
   "execution_count": 6,
   "id": "ffc2628f",
   "metadata": {},
   "outputs": [],
   "source": [
    "i=0\n",
    "\n",
    "# the .flow() command below generates batches of randomly transformed images\n",
    "# and saves the results to the `preview/` directory\n",
    "for batch in datagen.flow(x, batch_size=1, save_to_dir='Preview', save_prefix='cat', save_format='jpeg'):\n",
    "    i+=1\n",
    "    if i > 20:   #Saving only 20 images that are generated randomly\n",
    "        break # otherwise the generator would loop indefinitely"
   ]
  },
  {
   "cell_type": "code",
   "execution_count": null,
   "id": "f4c2067d",
   "metadata": {},
   "outputs": [],
   "source": []
  }
 ],
 "metadata": {
  "kernelspec": {
   "display_name": "Python 3",
   "language": "python",
   "name": "python3"
  },
  "language_info": {
   "codemirror_mode": {
    "name": "ipython",
    "version": 3
   },
   "file_extension": ".py",
   "mimetype": "text/x-python",
   "name": "python",
   "nbconvert_exporter": "python",
   "pygments_lexer": "ipython3",
   "version": "3.6.9"
  }
 },
 "nbformat": 4,
 "nbformat_minor": 5
}
