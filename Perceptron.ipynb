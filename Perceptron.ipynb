{
 "cells": [
  {
   "cell_type": "code",
   "execution_count": 1,
   "id": "2c072206",
   "metadata": {},
   "outputs": [],
   "source": [
    "import pandas as pd"
   ]
  },
  {
   "cell_type": "code",
   "execution_count": 4,
   "id": "deaf51cd",
   "metadata": {},
   "outputs": [
    {
     "data": {
      "text/html": [
       "<div>\n",
       "<style scoped>\n",
       "    .dataframe tbody tr th:only-of-type {\n",
       "        vertical-align: middle;\n",
       "    }\n",
       "\n",
       "    .dataframe tbody tr th {\n",
       "        vertical-align: top;\n",
       "    }\n",
       "\n",
       "    .dataframe thead th {\n",
       "        text-align: right;\n",
       "    }\n",
       "</style>\n",
       "<table border=\"1\" class=\"dataframe\">\n",
       "  <thead>\n",
       "    <tr style=\"text-align: right;\">\n",
       "      <th></th>\n",
       "      <th>Features</th>\n",
       "      <th>Target</th>\n",
       "    </tr>\n",
       "  </thead>\n",
       "  <tbody>\n",
       "    <tr>\n",
       "      <th>0</th>\n",
       "      <td>1</td>\n",
       "      <td>0</td>\n",
       "    </tr>\n",
       "    <tr>\n",
       "      <th>1</th>\n",
       "      <td>2</td>\n",
       "      <td>1</td>\n",
       "    </tr>\n",
       "    <tr>\n",
       "      <th>2</th>\n",
       "      <td>3</td>\n",
       "      <td>0</td>\n",
       "    </tr>\n",
       "    <tr>\n",
       "      <th>3</th>\n",
       "      <td>10</td>\n",
       "      <td>0</td>\n",
       "    </tr>\n",
       "    <tr>\n",
       "      <th>4</th>\n",
       "      <td>15</td>\n",
       "      <td>1</td>\n",
       "    </tr>\n",
       "  </tbody>\n",
       "</table>\n",
       "</div>"
      ],
      "text/plain": [
       "   Features  Target\n",
       "0         1       0\n",
       "1         2       1\n",
       "2         3       0\n",
       "3        10       0\n",
       "4        15       1"
      ]
     },
     "execution_count": 4,
     "metadata": {},
     "output_type": "execute_result"
    }
   ],
   "source": [
    "df=pd.DataFrame([[1,0],[2,1],[3,0],[10,0],[15,1]],columns=['Features','Target'])\n",
    "df"
   ]
  },
  {
   "cell_type": "code",
   "execution_count": 5,
   "id": "79ad891d",
   "metadata": {},
   "outputs": [],
   "source": [
    "x=df.iloc[:,:-1].values"
   ]
  },
  {
   "cell_type": "code",
   "execution_count": 6,
   "id": "5c0b3749",
   "metadata": {},
   "outputs": [],
   "source": [
    "y=df.iloc[:,-1].values"
   ]
  },
  {
   "cell_type": "code",
   "execution_count": 7,
   "id": "5ad3d1d2",
   "metadata": {},
   "outputs": [],
   "source": [
    "from sklearn.preprocessing import StandardScaler\n",
    "sc=StandardScaler()"
   ]
  },
  {
   "cell_type": "code",
   "execution_count": 9,
   "id": "3d1b3ff9",
   "metadata": {},
   "outputs": [
    {
     "data": {
      "text/plain": [
       "array([[-0.95967751],\n",
       "       [-0.77512414],\n",
       "       [-0.59057078],\n",
       "       [ 0.7013028 ],\n",
       "       [ 1.62406964]])"
      ]
     },
     "execution_count": 9,
     "metadata": {},
     "output_type": "execute_result"
    }
   ],
   "source": [
    "x_t=sc.fit_transform(x)\n",
    "x_t"
   ]
  },
  {
   "cell_type": "code",
   "execution_count": 10,
   "id": "2fad82b9",
   "metadata": {},
   "outputs": [],
   "source": [
    "import tensorflow as tf"
   ]
  },
  {
   "cell_type": "code",
   "execution_count": 11,
   "id": "77972907",
   "metadata": {},
   "outputs": [
    {
     "data": {
      "text/plain": [
       "1"
      ]
     },
     "execution_count": 11,
     "metadata": {},
     "output_type": "execute_result"
    }
   ],
   "source": [
    "n_features=x_t.shape[1]\n",
    "n_features"
   ]
  },
  {
   "cell_type": "code",
   "execution_count": 12,
   "id": "ff5981f6",
   "metadata": {},
   "outputs": [],
   "source": [
    "output_neuron=1"
   ]
  },
  {
   "cell_type": "code",
   "execution_count": 13,
   "id": "2c60712d",
   "metadata": {},
   "outputs": [],
   "source": [
    "#Assigning weights and bias\n",
    "weightage=tf.random.truncated_normal(shape=[n_features,output_neuron],dtype='double')\n",
    "bias=tf.random.truncated_normal(shape=[output_neuron],dtype='double')"
   ]
  },
  {
   "cell_type": "code",
   "execution_count": 14,
   "id": "6be26e97",
   "metadata": {},
   "outputs": [
    {
     "data": {
      "text/plain": [
       "<tf.Tensor: id=5, shape=(1, 1), dtype=float64, numpy=array([[-0.82434397]])>"
      ]
     },
     "execution_count": 14,
     "metadata": {},
     "output_type": "execute_result"
    }
   ],
   "source": [
    "weightage"
   ]
  },
  {
   "cell_type": "code",
   "execution_count": 15,
   "id": "d3985f99",
   "metadata": {},
   "outputs": [
    {
     "data": {
      "text/plain": [
       "<tf.Tensor: id=11, shape=(1,), dtype=float64, numpy=array([0.7843153])>"
      ]
     },
     "execution_count": 15,
     "metadata": {},
     "output_type": "execute_result"
    }
   ],
   "source": [
    "bias"
   ]
  },
  {
   "cell_type": "markdown",
   "id": "8d4db86a",
   "metadata": {},
   "source": [
    "We will truncate as the weights and bias assingned should be of different values"
   ]
  },
  {
   "cell_type": "code",
   "execution_count": 16,
   "id": "a8277771",
   "metadata": {},
   "outputs": [
    {
     "data": {
      "text/plain": [
       "array([[ 1],\n",
       "       [ 2],\n",
       "       [ 3],\n",
       "       [10],\n",
       "       [15]], dtype=int64)"
      ]
     },
     "execution_count": 16,
     "metadata": {},
     "output_type": "execute_result"
    }
   ],
   "source": [
    "x"
   ]
  },
  {
   "cell_type": "markdown",
   "id": "bb955d72",
   "metadata": {},
   "source": [
    "# Building the perceptron"
   ]
  },
  {
   "cell_type": "code",
   "execution_count": 17,
   "id": "1d91da19",
   "metadata": {},
   "outputs": [],
   "source": [
    "def output_layer(x,weightage,bias):\n",
    "    z=x@weightage+bias\n",
    "    probability=tf.nn.sigmoid(z)  #nn=neural n/w \n",
    "    return probability,z"
   ]
  },
  {
   "cell_type": "code",
   "execution_count": 18,
   "id": "f4f923ce",
   "metadata": {},
   "outputs": [
    {
     "data": {
      "text/plain": [
       "(<tf.Tensor: id=15, shape=(5, 1), dtype=float64, numpy=\n",
       " array([[0.82855485],\n",
       "        [0.80585276],\n",
       "        [0.78093933],\n",
       "        [0.55136826],\n",
       "        [0.3648264 ]])>,\n",
       " <tf.Tensor: id=14, shape=(5, 1), dtype=float64, numpy=\n",
       " array([[ 1.57541967],\n",
       "        [ 1.42328421],\n",
       "        [ 1.27114876],\n",
       "        [ 0.20620057],\n",
       "        [-0.55447671]])>)"
      ]
     },
     "execution_count": 18,
     "metadata": {},
     "output_type": "execute_result"
    }
   ],
   "source": [
    "var=output_layer(x_t,weightage,bias)\n",
    "var"
   ]
  },
  {
   "cell_type": "code",
   "execution_count": 19,
   "id": "7a0dd50b",
   "metadata": {},
   "outputs": [
    {
     "name": "stdout",
     "output_type": "stream",
     "text": [
      "[[0.82855485]\n",
      " [0.80585276]\n",
      " [0.78093933]\n",
      " [0.55136826]\n",
      " [0.3648264 ]]\n"
     ]
    }
   ],
   "source": [
    "import numpy as np\n",
    "print((1/(1 + np.exp(-var[1]))))   #Sigmoid fn calculation\n",
    "\n",
    "#var[1] is z values,i.e,linear values"
   ]
  },
  {
   "cell_type": "code",
   "execution_count": 20,
   "id": "12c39990",
   "metadata": {},
   "outputs": [
    {
     "data": {
      "text/plain": [
       "(<tf.Tensor: id=20, shape=(5, 1), dtype=float64, numpy=\n",
       " array([[0.82855485],\n",
       "        [0.80585276],\n",
       "        [0.78093933],\n",
       "        [0.55136826],\n",
       "        [0.3648264 ]])>,\n",
       " <tf.Tensor: id=19, shape=(5, 1), dtype=float64, numpy=\n",
       " array([[ 1.57541967],\n",
       "        [ 1.42328421],\n",
       "        [ 1.27114876],\n",
       "        [ 0.20620057],\n",
       "        [-0.55447671]])>)"
      ]
     },
     "execution_count": 20,
     "metadata": {},
     "output_type": "execute_result"
    }
   ],
   "source": [
    "output_layer(sc.transform(np.array([[1],[2],[3],[10],[15]])),weightage,bias)"
   ]
  },
  {
   "cell_type": "code",
   "execution_count": null,
   "id": "9572d055",
   "metadata": {},
   "outputs": [],
   "source": []
  }
 ],
 "metadata": {
  "kernelspec": {
   "display_name": "Python 3",
   "language": "python",
   "name": "python3"
  },
  "language_info": {
   "codemirror_mode": {
    "name": "ipython",
    "version": 3
   },
   "file_extension": ".py",
   "mimetype": "text/x-python",
   "name": "python",
   "nbconvert_exporter": "python",
   "pygments_lexer": "ipython3",
   "version": "3.6.9"
  }
 },
 "nbformat": 4,
 "nbformat_minor": 5
}
